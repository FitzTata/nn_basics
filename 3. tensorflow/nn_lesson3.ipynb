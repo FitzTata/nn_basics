{
  "cells": [
    {
      "cell_type": "markdown",
      "id": "7921f81e",
      "metadata": {
        "id": "7921f81e"
      },
      "source": [
        "# Введение в искусственные нейронные сети\n",
        "# Урок 3. TensorFlow"
      ]
    },
    {
      "cell_type": "markdown",
      "id": "e97a6601",
      "metadata": {
        "id": "e97a6601"
      },
      "source": [
        "## Домашнее задание\n",
        "\n",
        "  1. Постройте нейронную сеть (берем несложную полносвязную сеть, меняем число слоев, число нейронов, типы активации, тип оптимизатора) на датасете from sklearn.datasets import load_boston. \n",
        "  2. Постройте 10-15 вариантов разных нейронных сетей и сведите результаты их работы в таблицу.  Опишите, какого результата вы добились от нейросети? Что помогло вам улучшить ее точность?"
      ]
    },
    {
      "cell_type": "markdown",
      "id": "47aeb5fe",
      "metadata": {
        "id": "47aeb5fe"
      },
      "source": [
        "### 1. Импорты"
      ]
    },
    {
      "cell_type": "code",
      "execution_count": 90,
      "id": "3287739e",
      "metadata": {
        "id": "3287739e"
      },
      "outputs": [],
      "source": [
        "import tensorflow as tf\n",
        "import numpy as np\n",
        "import pandas as pd\n",
        "import matplotlib.pyplot as plt\n",
        "import warnings\n",
        "warnings.filterwarnings('ignore')\n",
        "from sklearn.datasets import load_boston\n",
        "from sklearn.model_selection import train_test_split\n",
        "from tensorflow.keras.losses import MSE\n",
        "from tensorflow.keras.layers import Input, Dense, Activation, ReLU, LeakyReLU\n",
        "from tensorflow.keras.models import Model\n",
        "from tensorflow.keras.optimizers import Adam, SGD\n",
        "from keras.utils.generic_utils import get_custom_objects\n",
        "import tensorflow_addons as tfa\n",
        "from sklearn.preprocessing import StandardScaler\n",
        "keras = tf.keras"
      ]
    },
    {
      "cell_type": "code",
      "execution_count": 3,
      "id": "91bb118e",
      "metadata": {
        "colab": {
          "base_uri": "https://localhost:8080/"
        },
        "id": "91bb118e",
        "outputId": "21291b8b-8c36-45f9-890d-b86d6c19cfa6"
      },
      "outputs": [
        {
          "output_type": "execute_result",
          "data": {
            "text/plain": [
              "[PhysicalDevice(name='/physical_device:GPU:0', device_type='GPU')]"
            ]
          },
          "metadata": {},
          "execution_count": 3
        }
      ],
      "source": [
        "tf.config.list_physical_devices('GPU')"
      ]
    },
    {
      "cell_type": "code",
      "execution_count": 4,
      "id": "3518fdb3",
      "metadata": {
        "colab": {
          "base_uri": "https://localhost:8080/"
        },
        "id": "3518fdb3",
        "outputId": "5bbc880e-a1f7-4eed-8022-da86534e7108"
      },
      "outputs": [
        {
          "output_type": "stream",
          "name": "stdout",
          "text": [
            "Sat Oct 29 11:49:35 2022       \n",
            "+-----------------------------------------------------------------------------+\n",
            "| NVIDIA-SMI 460.32.03    Driver Version: 460.32.03    CUDA Version: 11.2     |\n",
            "|-------------------------------+----------------------+----------------------+\n",
            "| GPU  Name        Persistence-M| Bus-Id        Disp.A | Volatile Uncorr. ECC |\n",
            "| Fan  Temp  Perf  Pwr:Usage/Cap|         Memory-Usage | GPU-Util  Compute M. |\n",
            "|                               |                      |               MIG M. |\n",
            "|===============================+======================+======================|\n",
            "|   0  Tesla T4            Off  | 00000000:00:04.0 Off |                    0 |\n",
            "| N/A   58C    P8    10W /  70W |      3MiB / 15109MiB |      0%      Default |\n",
            "|                               |                      |                  N/A |\n",
            "+-------------------------------+----------------------+----------------------+\n",
            "                                                                               \n",
            "+-----------------------------------------------------------------------------+\n",
            "| Processes:                                                                  |\n",
            "|  GPU   GI   CI        PID   Type   Process name                  GPU Memory |\n",
            "|        ID   ID                                                   Usage      |\n",
            "|=============================================================================|\n",
            "|  No running processes found                                                 |\n",
            "+-----------------------------------------------------------------------------+\n"
          ]
        }
      ],
      "source": [
        "!nvidia-smi"
      ]
    },
    {
      "cell_type": "code",
      "source": [
        "!pip install tensorflow_addons"
      ],
      "metadata": {
        "colab": {
          "base_uri": "https://localhost:8080/"
        },
        "id": "vCHpYOuwxJkR",
        "outputId": "e4b8e7de-7095-4374-9b59-b7c0b07c0589"
      },
      "id": "vCHpYOuwxJkR",
      "execution_count": 33,
      "outputs": [
        {
          "output_type": "stream",
          "name": "stdout",
          "text": [
            "Looking in indexes: https://pypi.org/simple, https://us-python.pkg.dev/colab-wheels/public/simple/\n",
            "Collecting tensorflow_addons\n",
            "  Downloading tensorflow_addons-0.18.0-cp37-cp37m-manylinux_2_17_x86_64.manylinux2014_x86_64.whl (1.1 MB)\n",
            "\u001b[K     |████████████████████████████████| 1.1 MB 35.2 MB/s \n",
            "\u001b[?25hRequirement already satisfied: typeguard>=2.7 in /usr/local/lib/python3.7/dist-packages (from tensorflow_addons) (2.7.1)\n",
            "Requirement already satisfied: packaging in /usr/local/lib/python3.7/dist-packages (from tensorflow_addons) (21.3)\n",
            "Requirement already satisfied: pyparsing!=3.0.5,>=2.0.2 in /usr/local/lib/python3.7/dist-packages (from packaging->tensorflow_addons) (3.0.9)\n",
            "Installing collected packages: tensorflow-addons\n",
            "Successfully installed tensorflow-addons-0.18.0\n"
          ]
        }
      ]
    },
    {
      "cell_type": "markdown",
      "id": "5478602b",
      "metadata": {
        "id": "5478602b"
      },
      "source": [
        "### 2. Загрузка и подготовка данных"
      ]
    },
    {
      "cell_type": "code",
      "execution_count": 5,
      "id": "152b1571",
      "metadata": {
        "id": "152b1571"
      },
      "outputs": [],
      "source": [
        "random_state = 69"
      ]
    },
    {
      "cell_type": "code",
      "execution_count": 6,
      "id": "ee843d90",
      "metadata": {
        "colab": {
          "base_uri": "https://localhost:8080/",
          "height": 424
        },
        "id": "ee843d90",
        "outputId": "51af8636-ed00-45d7-a993-326729efa8a3"
      },
      "outputs": [
        {
          "output_type": "execute_result",
          "data": {
            "text/plain": [
              "        CRIM    ZN  INDUS  CHAS    NOX     RM   AGE     DIS  RAD    TAX  \\\n",
              "0    0.00632  18.0   2.31   0.0  0.538  6.575  65.2  4.0900  1.0  296.0   \n",
              "1    0.02731   0.0   7.07   0.0  0.469  6.421  78.9  4.9671  2.0  242.0   \n",
              "2    0.02729   0.0   7.07   0.0  0.469  7.185  61.1  4.9671  2.0  242.0   \n",
              "3    0.03237   0.0   2.18   0.0  0.458  6.998  45.8  6.0622  3.0  222.0   \n",
              "4    0.06905   0.0   2.18   0.0  0.458  7.147  54.2  6.0622  3.0  222.0   \n",
              "..       ...   ...    ...   ...    ...    ...   ...     ...  ...    ...   \n",
              "501  0.06263   0.0  11.93   0.0  0.573  6.593  69.1  2.4786  1.0  273.0   \n",
              "502  0.04527   0.0  11.93   0.0  0.573  6.120  76.7  2.2875  1.0  273.0   \n",
              "503  0.06076   0.0  11.93   0.0  0.573  6.976  91.0  2.1675  1.0  273.0   \n",
              "504  0.10959   0.0  11.93   0.0  0.573  6.794  89.3  2.3889  1.0  273.0   \n",
              "505  0.04741   0.0  11.93   0.0  0.573  6.030  80.8  2.5050  1.0  273.0   \n",
              "\n",
              "     PTRATIO       B  LSTAT  \n",
              "0       15.3  396.90   4.98  \n",
              "1       17.8  396.90   9.14  \n",
              "2       17.8  392.83   4.03  \n",
              "3       18.7  394.63   2.94  \n",
              "4       18.7  396.90   5.33  \n",
              "..       ...     ...    ...  \n",
              "501     21.0  391.99   9.67  \n",
              "502     21.0  396.90   9.08  \n",
              "503     21.0  396.90   5.64  \n",
              "504     21.0  393.45   6.48  \n",
              "505     21.0  396.90   7.88  \n",
              "\n",
              "[506 rows x 13 columns]"
            ],
            "text/html": [
              "\n",
              "  <div id=\"df-9fb27c31-37b1-48b8-b0c3-f503fce4937a\">\n",
              "    <div class=\"colab-df-container\">\n",
              "      <div>\n",
              "<style scoped>\n",
              "    .dataframe tbody tr th:only-of-type {\n",
              "        vertical-align: middle;\n",
              "    }\n",
              "\n",
              "    .dataframe tbody tr th {\n",
              "        vertical-align: top;\n",
              "    }\n",
              "\n",
              "    .dataframe thead th {\n",
              "        text-align: right;\n",
              "    }\n",
              "</style>\n",
              "<table border=\"1\" class=\"dataframe\">\n",
              "  <thead>\n",
              "    <tr style=\"text-align: right;\">\n",
              "      <th></th>\n",
              "      <th>CRIM</th>\n",
              "      <th>ZN</th>\n",
              "      <th>INDUS</th>\n",
              "      <th>CHAS</th>\n",
              "      <th>NOX</th>\n",
              "      <th>RM</th>\n",
              "      <th>AGE</th>\n",
              "      <th>DIS</th>\n",
              "      <th>RAD</th>\n",
              "      <th>TAX</th>\n",
              "      <th>PTRATIO</th>\n",
              "      <th>B</th>\n",
              "      <th>LSTAT</th>\n",
              "    </tr>\n",
              "  </thead>\n",
              "  <tbody>\n",
              "    <tr>\n",
              "      <th>0</th>\n",
              "      <td>0.00632</td>\n",
              "      <td>18.0</td>\n",
              "      <td>2.31</td>\n",
              "      <td>0.0</td>\n",
              "      <td>0.538</td>\n",
              "      <td>6.575</td>\n",
              "      <td>65.2</td>\n",
              "      <td>4.0900</td>\n",
              "      <td>1.0</td>\n",
              "      <td>296.0</td>\n",
              "      <td>15.3</td>\n",
              "      <td>396.90</td>\n",
              "      <td>4.98</td>\n",
              "    </tr>\n",
              "    <tr>\n",
              "      <th>1</th>\n",
              "      <td>0.02731</td>\n",
              "      <td>0.0</td>\n",
              "      <td>7.07</td>\n",
              "      <td>0.0</td>\n",
              "      <td>0.469</td>\n",
              "      <td>6.421</td>\n",
              "      <td>78.9</td>\n",
              "      <td>4.9671</td>\n",
              "      <td>2.0</td>\n",
              "      <td>242.0</td>\n",
              "      <td>17.8</td>\n",
              "      <td>396.90</td>\n",
              "      <td>9.14</td>\n",
              "    </tr>\n",
              "    <tr>\n",
              "      <th>2</th>\n",
              "      <td>0.02729</td>\n",
              "      <td>0.0</td>\n",
              "      <td>7.07</td>\n",
              "      <td>0.0</td>\n",
              "      <td>0.469</td>\n",
              "      <td>7.185</td>\n",
              "      <td>61.1</td>\n",
              "      <td>4.9671</td>\n",
              "      <td>2.0</td>\n",
              "      <td>242.0</td>\n",
              "      <td>17.8</td>\n",
              "      <td>392.83</td>\n",
              "      <td>4.03</td>\n",
              "    </tr>\n",
              "    <tr>\n",
              "      <th>3</th>\n",
              "      <td>0.03237</td>\n",
              "      <td>0.0</td>\n",
              "      <td>2.18</td>\n",
              "      <td>0.0</td>\n",
              "      <td>0.458</td>\n",
              "      <td>6.998</td>\n",
              "      <td>45.8</td>\n",
              "      <td>6.0622</td>\n",
              "      <td>3.0</td>\n",
              "      <td>222.0</td>\n",
              "      <td>18.7</td>\n",
              "      <td>394.63</td>\n",
              "      <td>2.94</td>\n",
              "    </tr>\n",
              "    <tr>\n",
              "      <th>4</th>\n",
              "      <td>0.06905</td>\n",
              "      <td>0.0</td>\n",
              "      <td>2.18</td>\n",
              "      <td>0.0</td>\n",
              "      <td>0.458</td>\n",
              "      <td>7.147</td>\n",
              "      <td>54.2</td>\n",
              "      <td>6.0622</td>\n",
              "      <td>3.0</td>\n",
              "      <td>222.0</td>\n",
              "      <td>18.7</td>\n",
              "      <td>396.90</td>\n",
              "      <td>5.33</td>\n",
              "    </tr>\n",
              "    <tr>\n",
              "      <th>...</th>\n",
              "      <td>...</td>\n",
              "      <td>...</td>\n",
              "      <td>...</td>\n",
              "      <td>...</td>\n",
              "      <td>...</td>\n",
              "      <td>...</td>\n",
              "      <td>...</td>\n",
              "      <td>...</td>\n",
              "      <td>...</td>\n",
              "      <td>...</td>\n",
              "      <td>...</td>\n",
              "      <td>...</td>\n",
              "      <td>...</td>\n",
              "    </tr>\n",
              "    <tr>\n",
              "      <th>501</th>\n",
              "      <td>0.06263</td>\n",
              "      <td>0.0</td>\n",
              "      <td>11.93</td>\n",
              "      <td>0.0</td>\n",
              "      <td>0.573</td>\n",
              "      <td>6.593</td>\n",
              "      <td>69.1</td>\n",
              "      <td>2.4786</td>\n",
              "      <td>1.0</td>\n",
              "      <td>273.0</td>\n",
              "      <td>21.0</td>\n",
              "      <td>391.99</td>\n",
              "      <td>9.67</td>\n",
              "    </tr>\n",
              "    <tr>\n",
              "      <th>502</th>\n",
              "      <td>0.04527</td>\n",
              "      <td>0.0</td>\n",
              "      <td>11.93</td>\n",
              "      <td>0.0</td>\n",
              "      <td>0.573</td>\n",
              "      <td>6.120</td>\n",
              "      <td>76.7</td>\n",
              "      <td>2.2875</td>\n",
              "      <td>1.0</td>\n",
              "      <td>273.0</td>\n",
              "      <td>21.0</td>\n",
              "      <td>396.90</td>\n",
              "      <td>9.08</td>\n",
              "    </tr>\n",
              "    <tr>\n",
              "      <th>503</th>\n",
              "      <td>0.06076</td>\n",
              "      <td>0.0</td>\n",
              "      <td>11.93</td>\n",
              "      <td>0.0</td>\n",
              "      <td>0.573</td>\n",
              "      <td>6.976</td>\n",
              "      <td>91.0</td>\n",
              "      <td>2.1675</td>\n",
              "      <td>1.0</td>\n",
              "      <td>273.0</td>\n",
              "      <td>21.0</td>\n",
              "      <td>396.90</td>\n",
              "      <td>5.64</td>\n",
              "    </tr>\n",
              "    <tr>\n",
              "      <th>504</th>\n",
              "      <td>0.10959</td>\n",
              "      <td>0.0</td>\n",
              "      <td>11.93</td>\n",
              "      <td>0.0</td>\n",
              "      <td>0.573</td>\n",
              "      <td>6.794</td>\n",
              "      <td>89.3</td>\n",
              "      <td>2.3889</td>\n",
              "      <td>1.0</td>\n",
              "      <td>273.0</td>\n",
              "      <td>21.0</td>\n",
              "      <td>393.45</td>\n",
              "      <td>6.48</td>\n",
              "    </tr>\n",
              "    <tr>\n",
              "      <th>505</th>\n",
              "      <td>0.04741</td>\n",
              "      <td>0.0</td>\n",
              "      <td>11.93</td>\n",
              "      <td>0.0</td>\n",
              "      <td>0.573</td>\n",
              "      <td>6.030</td>\n",
              "      <td>80.8</td>\n",
              "      <td>2.5050</td>\n",
              "      <td>1.0</td>\n",
              "      <td>273.0</td>\n",
              "      <td>21.0</td>\n",
              "      <td>396.90</td>\n",
              "      <td>7.88</td>\n",
              "    </tr>\n",
              "  </tbody>\n",
              "</table>\n",
              "<p>506 rows × 13 columns</p>\n",
              "</div>\n",
              "      <button class=\"colab-df-convert\" onclick=\"convertToInteractive('df-9fb27c31-37b1-48b8-b0c3-f503fce4937a')\"\n",
              "              title=\"Convert this dataframe to an interactive table.\"\n",
              "              style=\"display:none;\">\n",
              "        \n",
              "  <svg xmlns=\"http://www.w3.org/2000/svg\" height=\"24px\"viewBox=\"0 0 24 24\"\n",
              "       width=\"24px\">\n",
              "    <path d=\"M0 0h24v24H0V0z\" fill=\"none\"/>\n",
              "    <path d=\"M18.56 5.44l.94 2.06.94-2.06 2.06-.94-2.06-.94-.94-2.06-.94 2.06-2.06.94zm-11 1L8.5 8.5l.94-2.06 2.06-.94-2.06-.94L8.5 2.5l-.94 2.06-2.06.94zm10 10l.94 2.06.94-2.06 2.06-.94-2.06-.94-.94-2.06-.94 2.06-2.06.94z\"/><path d=\"M17.41 7.96l-1.37-1.37c-.4-.4-.92-.59-1.43-.59-.52 0-1.04.2-1.43.59L10.3 9.45l-7.72 7.72c-.78.78-.78 2.05 0 2.83L4 21.41c.39.39.9.59 1.41.59.51 0 1.02-.2 1.41-.59l7.78-7.78 2.81-2.81c.8-.78.8-2.07 0-2.86zM5.41 20L4 18.59l7.72-7.72 1.47 1.35L5.41 20z\"/>\n",
              "  </svg>\n",
              "      </button>\n",
              "      \n",
              "  <style>\n",
              "    .colab-df-container {\n",
              "      display:flex;\n",
              "      flex-wrap:wrap;\n",
              "      gap: 12px;\n",
              "    }\n",
              "\n",
              "    .colab-df-convert {\n",
              "      background-color: #E8F0FE;\n",
              "      border: none;\n",
              "      border-radius: 50%;\n",
              "      cursor: pointer;\n",
              "      display: none;\n",
              "      fill: #1967D2;\n",
              "      height: 32px;\n",
              "      padding: 0 0 0 0;\n",
              "      width: 32px;\n",
              "    }\n",
              "\n",
              "    .colab-df-convert:hover {\n",
              "      background-color: #E2EBFA;\n",
              "      box-shadow: 0px 1px 2px rgba(60, 64, 67, 0.3), 0px 1px 3px 1px rgba(60, 64, 67, 0.15);\n",
              "      fill: #174EA6;\n",
              "    }\n",
              "\n",
              "    [theme=dark] .colab-df-convert {\n",
              "      background-color: #3B4455;\n",
              "      fill: #D2E3FC;\n",
              "    }\n",
              "\n",
              "    [theme=dark] .colab-df-convert:hover {\n",
              "      background-color: #434B5C;\n",
              "      box-shadow: 0px 1px 3px 1px rgba(0, 0, 0, 0.15);\n",
              "      filter: drop-shadow(0px 1px 2px rgba(0, 0, 0, 0.3));\n",
              "      fill: #FFFFFF;\n",
              "    }\n",
              "  </style>\n",
              "\n",
              "      <script>\n",
              "        const buttonEl =\n",
              "          document.querySelector('#df-9fb27c31-37b1-48b8-b0c3-f503fce4937a button.colab-df-convert');\n",
              "        buttonEl.style.display =\n",
              "          google.colab.kernel.accessAllowed ? 'block' : 'none';\n",
              "\n",
              "        async function convertToInteractive(key) {\n",
              "          const element = document.querySelector('#df-9fb27c31-37b1-48b8-b0c3-f503fce4937a');\n",
              "          const dataTable =\n",
              "            await google.colab.kernel.invokeFunction('convertToInteractive',\n",
              "                                                     [key], {});\n",
              "          if (!dataTable) return;\n",
              "\n",
              "          const docLinkHtml = 'Like what you see? Visit the ' +\n",
              "            '<a target=\"_blank\" href=https://colab.research.google.com/notebooks/data_table.ipynb>data table notebook</a>'\n",
              "            + ' to learn more about interactive tables.';\n",
              "          element.innerHTML = '';\n",
              "          dataTable['output_type'] = 'display_data';\n",
              "          await google.colab.output.renderOutput(dataTable, element);\n",
              "          const docLink = document.createElement('div');\n",
              "          docLink.innerHTML = docLinkHtml;\n",
              "          element.appendChild(docLink);\n",
              "        }\n",
              "      </script>\n",
              "    </div>\n",
              "  </div>\n",
              "  "
            ]
          },
          "metadata": {},
          "execution_count": 6
        }
      ],
      "source": [
        "data = load_boston()\n",
        "boston = pd.DataFrame(data['data'], columns=data['feature_names'])\n",
        "boston"
      ]
    },
    {
      "cell_type": "code",
      "source": [
        "scaler = StandardScaler()\n",
        "boston = scaler.fit_transform(boston)\n",
        "boston"
      ],
      "metadata": {
        "colab": {
          "base_uri": "https://localhost:8080/"
        },
        "id": "A-qEJING9jJc",
        "outputId": "1ed25bc6-3df1-4a43-db68-50e0ecf832f2"
      },
      "id": "A-qEJING9jJc",
      "execution_count": 67,
      "outputs": [
        {
          "output_type": "execute_result",
          "data": {
            "text/plain": [
              "array([[-0.41978194,  0.28482986, -1.2879095 , ..., -1.45900038,\n",
              "         0.44105193, -1.0755623 ],\n",
              "       [-0.41733926, -0.48772236, -0.59338101, ..., -0.30309415,\n",
              "         0.44105193, -0.49243937],\n",
              "       [-0.41734159, -0.48772236, -0.59338101, ..., -0.30309415,\n",
              "         0.39642699, -1.2087274 ],\n",
              "       ...,\n",
              "       [-0.41344658, -0.48772236,  0.11573841, ...,  1.17646583,\n",
              "         0.44105193, -0.98304761],\n",
              "       [-0.40776407, -0.48772236,  0.11573841, ...,  1.17646583,\n",
              "         0.4032249 , -0.86530163],\n",
              "       [-0.41500016, -0.48772236,  0.11573841, ...,  1.17646583,\n",
              "         0.44105193, -0.66905833]])"
            ]
          },
          "metadata": {},
          "execution_count": 67
        }
      ]
    },
    {
      "cell_type": "code",
      "execution_count": 68,
      "id": "6db75fd3",
      "metadata": {
        "id": "6db75fd3"
      },
      "outputs": [],
      "source": [
        "X_train, X_test, y_train, y_test = train_test_split(boston, data['target'], test_size=0.25, random_state=random_state)"
      ]
    },
    {
      "cell_type": "code",
      "source": [
        "batch_size = 32\n",
        "train_dataset = tf.data.Dataset.from_tensor_slices((X_train, y_train)) \n",
        "train_dataset = train_dataset.shuffle(buffer_size=X_train.shape[0]).batch(batch_size) \n",
        "tf.random.set_seed(1)"
      ],
      "metadata": {
        "id": "uNBhUSCf0xSz"
      },
      "id": "uNBhUSCf0xSz",
      "execution_count": 70,
      "outputs": []
    },
    {
      "cell_type": "markdown",
      "id": "ddb4206e",
      "metadata": {
        "id": "ddb4206e"
      },
      "source": [
        "### 3. Подготовка архитектур моделей"
      ]
    },
    {
      "cell_type": "markdown",
      "id": "81cb553c",
      "metadata": {
        "id": "81cb553c"
      },
      "source": [
        "Будем менять параметры: число слоев, число нейронов, типы активации, тип оптимизатора."
      ]
    },
    {
      "cell_type": "code",
      "source": [
        "get_custom_objects().update({'leaky-relu': Activation(LeakyReLU(alpha=0.2))})\n",
        "\n"
      ],
      "metadata": {
        "id": "7sLX312GDOg7"
      },
      "id": "7sLX312GDOg7",
      "execution_count": 91,
      "outputs": []
    },
    {
      "cell_type": "code",
      "execution_count": 92,
      "id": "fdb18452",
      "metadata": {
        "id": "fdb18452"
      },
      "outputs": [],
      "source": [
        "n_layers = (3, 6)\n",
        "n_neurons_first_layer = (128, 256)\n",
        "optimizers = (Adam(learning_rate=0.01), SGD(learning_rate=0.01))\n",
        "act_func = ['relu', 'leaky-relu']"
      ]
    },
    {
      "cell_type": "code",
      "execution_count": 109,
      "id": "638821ad",
      "metadata": {
        "id": "638821ad"
      },
      "outputs": [],
      "source": [
        "models = {}\n",
        "for n_neurons in n_neurons_first_layer:\n",
        "  for max_layers in n_layers:\n",
        "    for activation in act_func:            \n",
        "      inputs = Input(shape=(13, 1), name='boston')\n",
        "      x = inputs\n",
        "      for single_layer in range(max_layers):\n",
        "          x = Dense(n_neurons, activation=activation, name=f'dense_{single_layer}')(x)\n",
        "      outputs = Dense(1, activation=activation, name='predictions')(x) \n",
        "      model = Model(inputs=inputs, outputs=outputs) \n",
        "      model_name = f'nn_{n_neurons} neurons_{max_layers + 1} layers_{activation} activation'\n",
        "      models[model_name] = model\n"
      ]
    },
    {
      "cell_type": "markdown",
      "id": "49ae3562",
      "metadata": {
        "id": "49ae3562"
      },
      "source": [
        "### 4. Обучение моделей"
      ]
    },
    {
      "cell_type": "code",
      "execution_count": 110,
      "id": "91dc31c7",
      "metadata": {
        "colab": {
          "base_uri": "https://localhost:8080/"
        },
        "id": "91dc31c7",
        "outputId": "26c77c4c-500f-4e1d-a66c-72eeb99e3a99"
      },
      "outputs": [
        {
          "output_type": "stream",
          "name": "stdout",
          "text": [
            "Обучаем модель nn_128 neurons_4 layers_relu activation с оптимизатором Adam\n",
            "Обучаем модель nn_128 neurons_4 layers_relu activation с оптимизатором SGD\n",
            "Обучаем модель nn_128 neurons_4 layers_leaky-relu activation с оптимизатором Adam\n",
            "Обучаем модель nn_128 neurons_4 layers_leaky-relu activation с оптимизатором SGD\n",
            "Обучаем модель nn_128 neurons_7 layers_relu activation с оптимизатором Adam\n",
            "Обучаем модель nn_128 neurons_7 layers_relu activation с оптимизатором SGD\n",
            "Обучаем модель nn_128 neurons_7 layers_leaky-relu activation с оптимизатором Adam\n",
            "Обучаем модель nn_128 neurons_7 layers_leaky-relu activation с оптимизатором SGD\n",
            "Обучаем модель nn_256 neurons_4 layers_relu activation с оптимизатором Adam\n",
            "Обучаем модель nn_256 neurons_4 layers_relu activation с оптимизатором SGD\n",
            "Обучаем модель nn_256 neurons_4 layers_leaky-relu activation с оптимизатором Adam\n",
            "Обучаем модель nn_256 neurons_4 layers_leaky-relu activation с оптимизатором SGD\n",
            "Обучаем модель nn_256 neurons_7 layers_relu activation с оптимизатором Adam\n",
            "Обучаем модель nn_256 neurons_7 layers_relu activation с оптимизатором SGD\n",
            "Обучаем модель nn_256 neurons_7 layers_leaky-relu activation с оптимизатором Adam\n",
            "Обучаем модель nn_256 neurons_7 layers_leaky-relu activation с оптимизатором SGD\n"
          ]
        }
      ],
      "source": [
        "num_epochs = 7\n",
        "epoch = np.arange(num_epochs+1)\n",
        "metric = tfa.metrics.r_square.RSquare()\n",
        "loss_fn = tf.keras.losses.MeanSquaredError()\n",
        "model_names = []\n",
        "losses = []\n",
        "\n",
        "for name, model in models.items():\n",
        "    for i, i_optimizer in enumerate(optimizers):\n",
        "        print(f'Обучаем модель {name} с оптимизатором {i_optimizer.get_config()[\"name\"]}')\n",
        "        model.compile(\n",
        "        optimizer=i_optimizer,\n",
        "        loss='mse',\n",
        "        metrics=[metric],\n",
        "        )\n",
        "        for epoch in range(num_epochs): \n",
        "\n",
        "            # Итерируем по батчам в датасете\n",
        "            for step, (x_batch_train, y_batch_train) in enumerate(train_dataset): \n",
        "                \n",
        "                # Откроем GradientTape чтобы записать операции\n",
        "                # выполняемые во время прямого прохода, включающего автодифференцирование\n",
        "                with tf.GradientTape() as tape: \n",
        "                    # Запустим прямой проход слоя\n",
        "                    preds = model(x_batch_train) \n",
        "\n",
        "                    # Вычислим значение потерь для этого батча\n",
        "                    loss_value = loss_fn(y_batch_train, preds)\n",
        "\n",
        "                    # Используем gradient tape для автоматического извлечения градиентов \n",
        "                    # обучаемых переменных относительно потерь\n",
        "                    grads = tape.gradient(loss_value, model.trainable_weights) \n",
        "                    g_g = []\n",
        "\n",
        "                    # пишем логи для сохранения значений градиента и веса по одной цепи \n",
        "                    for g_s in grads:\n",
        "                        # допишем логи значений градиента в зависимости от размера тензора градиента\n",
        "                        # if len(g_s.numpy().shape) == 1:\n",
        "                        #     g_g.append(g_s.numpy()[0])\n",
        "                        if len(g_s.numpy().shape) == 2:\n",
        "                            g_g.append(g_s.numpy()[0, 0]) \n",
        "                # Выполним один шаг градиентного спуска,\n",
        "                # обновив значение переменных минимизирующих потери\n",
        "                i_optimizer.apply_gradients(zip(grads, model.trainable_weights)) \n",
        "\n",
        "        model_names.append(name + i_optimizer.get_config()[\"name\"])\n",
        "        losses.append(loss_fn(y_test, model(X_test))) \n",
        "results = pd.DataFrame(model_names, columns=['Модель'])\n",
        "results['MSE на тесте'] = losses"
      ]
    },
    {
      "cell_type": "code",
      "execution_count": 113,
      "id": "df6c631e",
      "metadata": {
        "colab": {
          "base_uri": "https://localhost:8080/",
          "height": 551
        },
        "id": "df6c631e",
        "outputId": "03224871-1dc5-4c8c-c3af-a048fdd0c4cd"
      },
      "outputs": [
        {
          "output_type": "execute_result",
          "data": {
            "text/plain": [
              "                                               Модель  MSE на тесте\n",
              "0         nn_128 neurons_4 layers_relu activationAdam     72.307320\n",
              "4         nn_128 neurons_7 layers_relu activationAdam     74.390144\n",
              "8         nn_256 neurons_4 layers_relu activationAdam     76.944595\n",
              "10  nn_256 neurons_4 layers_leaky-relu activationAdam     85.588799\n",
              "2   nn_128 neurons_4 layers_leaky-relu activationAdam    147.044754\n",
              "6   nn_128 neurons_7 layers_leaky-relu activationAdam    202.037064\n",
              "1          nn_128 neurons_4 layers_relu activationSGD    558.081970\n",
              "5          nn_128 neurons_7 layers_relu activationSGD    558.081970\n",
              "9          nn_256 neurons_4 layers_relu activationSGD    558.081970\n",
              "12        nn_256 neurons_7 layers_relu activationAdam    558.081970\n",
              "13         nn_256 neurons_7 layers_relu activationSGD    558.081970\n",
              "14  nn_256 neurons_7 layers_leaky-relu activationAdam  20165.423828\n",
              "3    nn_128 neurons_4 layers_leaky-relu activationSGD           NaN\n",
              "7    nn_128 neurons_7 layers_leaky-relu activationSGD           NaN\n",
              "11   nn_256 neurons_4 layers_leaky-relu activationSGD           NaN\n",
              "15   nn_256 neurons_7 layers_leaky-relu activationSGD           NaN"
            ],
            "text/html": [
              "\n",
              "  <div id=\"df-7894557c-9bb9-4b66-91e9-bf69f0827f6b\">\n",
              "    <div class=\"colab-df-container\">\n",
              "      <div>\n",
              "<style scoped>\n",
              "    .dataframe tbody tr th:only-of-type {\n",
              "        vertical-align: middle;\n",
              "    }\n",
              "\n",
              "    .dataframe tbody tr th {\n",
              "        vertical-align: top;\n",
              "    }\n",
              "\n",
              "    .dataframe thead th {\n",
              "        text-align: right;\n",
              "    }\n",
              "</style>\n",
              "<table border=\"1\" class=\"dataframe\">\n",
              "  <thead>\n",
              "    <tr style=\"text-align: right;\">\n",
              "      <th></th>\n",
              "      <th>Модель</th>\n",
              "      <th>MSE на тесте</th>\n",
              "    </tr>\n",
              "  </thead>\n",
              "  <tbody>\n",
              "    <tr>\n",
              "      <th>0</th>\n",
              "      <td>nn_128 neurons_4 layers_relu activationAdam</td>\n",
              "      <td>72.307320</td>\n",
              "    </tr>\n",
              "    <tr>\n",
              "      <th>4</th>\n",
              "      <td>nn_128 neurons_7 layers_relu activationAdam</td>\n",
              "      <td>74.390144</td>\n",
              "    </tr>\n",
              "    <tr>\n",
              "      <th>8</th>\n",
              "      <td>nn_256 neurons_4 layers_relu activationAdam</td>\n",
              "      <td>76.944595</td>\n",
              "    </tr>\n",
              "    <tr>\n",
              "      <th>10</th>\n",
              "      <td>nn_256 neurons_4 layers_leaky-relu activationAdam</td>\n",
              "      <td>85.588799</td>\n",
              "    </tr>\n",
              "    <tr>\n",
              "      <th>2</th>\n",
              "      <td>nn_128 neurons_4 layers_leaky-relu activationAdam</td>\n",
              "      <td>147.044754</td>\n",
              "    </tr>\n",
              "    <tr>\n",
              "      <th>6</th>\n",
              "      <td>nn_128 neurons_7 layers_leaky-relu activationAdam</td>\n",
              "      <td>202.037064</td>\n",
              "    </tr>\n",
              "    <tr>\n",
              "      <th>1</th>\n",
              "      <td>nn_128 neurons_4 layers_relu activationSGD</td>\n",
              "      <td>558.081970</td>\n",
              "    </tr>\n",
              "    <tr>\n",
              "      <th>5</th>\n",
              "      <td>nn_128 neurons_7 layers_relu activationSGD</td>\n",
              "      <td>558.081970</td>\n",
              "    </tr>\n",
              "    <tr>\n",
              "      <th>9</th>\n",
              "      <td>nn_256 neurons_4 layers_relu activationSGD</td>\n",
              "      <td>558.081970</td>\n",
              "    </tr>\n",
              "    <tr>\n",
              "      <th>12</th>\n",
              "      <td>nn_256 neurons_7 layers_relu activationAdam</td>\n",
              "      <td>558.081970</td>\n",
              "    </tr>\n",
              "    <tr>\n",
              "      <th>13</th>\n",
              "      <td>nn_256 neurons_7 layers_relu activationSGD</td>\n",
              "      <td>558.081970</td>\n",
              "    </tr>\n",
              "    <tr>\n",
              "      <th>14</th>\n",
              "      <td>nn_256 neurons_7 layers_leaky-relu activationAdam</td>\n",
              "      <td>20165.423828</td>\n",
              "    </tr>\n",
              "    <tr>\n",
              "      <th>3</th>\n",
              "      <td>nn_128 neurons_4 layers_leaky-relu activationSGD</td>\n",
              "      <td>NaN</td>\n",
              "    </tr>\n",
              "    <tr>\n",
              "      <th>7</th>\n",
              "      <td>nn_128 neurons_7 layers_leaky-relu activationSGD</td>\n",
              "      <td>NaN</td>\n",
              "    </tr>\n",
              "    <tr>\n",
              "      <th>11</th>\n",
              "      <td>nn_256 neurons_4 layers_leaky-relu activationSGD</td>\n",
              "      <td>NaN</td>\n",
              "    </tr>\n",
              "    <tr>\n",
              "      <th>15</th>\n",
              "      <td>nn_256 neurons_7 layers_leaky-relu activationSGD</td>\n",
              "      <td>NaN</td>\n",
              "    </tr>\n",
              "  </tbody>\n",
              "</table>\n",
              "</div>\n",
              "      <button class=\"colab-df-convert\" onclick=\"convertToInteractive('df-7894557c-9bb9-4b66-91e9-bf69f0827f6b')\"\n",
              "              title=\"Convert this dataframe to an interactive table.\"\n",
              "              style=\"display:none;\">\n",
              "        \n",
              "  <svg xmlns=\"http://www.w3.org/2000/svg\" height=\"24px\"viewBox=\"0 0 24 24\"\n",
              "       width=\"24px\">\n",
              "    <path d=\"M0 0h24v24H0V0z\" fill=\"none\"/>\n",
              "    <path d=\"M18.56 5.44l.94 2.06.94-2.06 2.06-.94-2.06-.94-.94-2.06-.94 2.06-2.06.94zm-11 1L8.5 8.5l.94-2.06 2.06-.94-2.06-.94L8.5 2.5l-.94 2.06-2.06.94zm10 10l.94 2.06.94-2.06 2.06-.94-2.06-.94-.94-2.06-.94 2.06-2.06.94z\"/><path d=\"M17.41 7.96l-1.37-1.37c-.4-.4-.92-.59-1.43-.59-.52 0-1.04.2-1.43.59L10.3 9.45l-7.72 7.72c-.78.78-.78 2.05 0 2.83L4 21.41c.39.39.9.59 1.41.59.51 0 1.02-.2 1.41-.59l7.78-7.78 2.81-2.81c.8-.78.8-2.07 0-2.86zM5.41 20L4 18.59l7.72-7.72 1.47 1.35L5.41 20z\"/>\n",
              "  </svg>\n",
              "      </button>\n",
              "      \n",
              "  <style>\n",
              "    .colab-df-container {\n",
              "      display:flex;\n",
              "      flex-wrap:wrap;\n",
              "      gap: 12px;\n",
              "    }\n",
              "\n",
              "    .colab-df-convert {\n",
              "      background-color: #E8F0FE;\n",
              "      border: none;\n",
              "      border-radius: 50%;\n",
              "      cursor: pointer;\n",
              "      display: none;\n",
              "      fill: #1967D2;\n",
              "      height: 32px;\n",
              "      padding: 0 0 0 0;\n",
              "      width: 32px;\n",
              "    }\n",
              "\n",
              "    .colab-df-convert:hover {\n",
              "      background-color: #E2EBFA;\n",
              "      box-shadow: 0px 1px 2px rgba(60, 64, 67, 0.3), 0px 1px 3px 1px rgba(60, 64, 67, 0.15);\n",
              "      fill: #174EA6;\n",
              "    }\n",
              "\n",
              "    [theme=dark] .colab-df-convert {\n",
              "      background-color: #3B4455;\n",
              "      fill: #D2E3FC;\n",
              "    }\n",
              "\n",
              "    [theme=dark] .colab-df-convert:hover {\n",
              "      background-color: #434B5C;\n",
              "      box-shadow: 0px 1px 3px 1px rgba(0, 0, 0, 0.15);\n",
              "      filter: drop-shadow(0px 1px 2px rgba(0, 0, 0, 0.3));\n",
              "      fill: #FFFFFF;\n",
              "    }\n",
              "  </style>\n",
              "\n",
              "      <script>\n",
              "        const buttonEl =\n",
              "          document.querySelector('#df-7894557c-9bb9-4b66-91e9-bf69f0827f6b button.colab-df-convert');\n",
              "        buttonEl.style.display =\n",
              "          google.colab.kernel.accessAllowed ? 'block' : 'none';\n",
              "\n",
              "        async function convertToInteractive(key) {\n",
              "          const element = document.querySelector('#df-7894557c-9bb9-4b66-91e9-bf69f0827f6b');\n",
              "          const dataTable =\n",
              "            await google.colab.kernel.invokeFunction('convertToInteractive',\n",
              "                                                     [key], {});\n",
              "          if (!dataTable) return;\n",
              "\n",
              "          const docLinkHtml = 'Like what you see? Visit the ' +\n",
              "            '<a target=\"_blank\" href=https://colab.research.google.com/notebooks/data_table.ipynb>data table notebook</a>'\n",
              "            + ' to learn more about interactive tables.';\n",
              "          element.innerHTML = '';\n",
              "          dataTable['output_type'] = 'display_data';\n",
              "          await google.colab.output.renderOutput(dataTable, element);\n",
              "          const docLink = document.createElement('div');\n",
              "          docLink.innerHTML = docLinkHtml;\n",
              "          element.appendChild(docLink);\n",
              "        }\n",
              "      </script>\n",
              "    </div>\n",
              "  </div>\n",
              "  "
            ]
          },
          "metadata": {},
          "execution_count": 113
        }
      ],
      "source": [
        "res = results.copy()\n",
        "res['MSE на тесте'] = res['MSE на тесте'].apply(lambda x: x.numpy())\n",
        "res.sort_values(by='MSE на тесте')"
      ]
    },
    {
      "cell_type": "markdown",
      "source": [
        "Вот так интересно получилось. Хорошие результаты показали оптимизаторы Adam и функции активации ReLU. Лучший результат - на самой простой архитектуре (4 слоя и 128 нейронов).\n",
        "А если использовать SGD, то градиент сходится хуже (или вообще расходится, и сеть не обучается).\n"
      ],
      "metadata": {
        "id": "leOGOvWbF4h0"
      },
      "id": "leOGOvWbF4h0"
    }
  ],
  "metadata": {
    "kernelspec": {
      "display_name": "Python 3 (ipykernel)",
      "language": "python",
      "name": "python3"
    },
    "language_info": {
      "codemirror_mode": {
        "name": "ipython",
        "version": 3
      },
      "file_extension": ".py",
      "mimetype": "text/x-python",
      "name": "python",
      "nbconvert_exporter": "python",
      "pygments_lexer": "ipython3",
      "version": "3.10.0"
    },
    "colab": {
      "provenance": [],
      "collapsed_sections": []
    },
    "accelerator": "GPU",
    "gpuClass": "standard"
  },
  "nbformat": 4,
  "nbformat_minor": 5
}