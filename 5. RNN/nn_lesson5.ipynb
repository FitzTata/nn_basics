{
  "cells": [
    {
      "cell_type": "markdown",
      "id": "f89aecdf",
      "metadata": {
        "id": "f89aecdf"
      },
      "source": [
        "# Введение в искусственные нейронные сети\n",
        "# Урок 5. Рекуррентные нейронные сети"
      ]
    },
    {
      "cell_type": "markdown",
      "id": "97e45630",
      "metadata": {
        "id": "97e45630"
      },
      "source": [
        "## Домашнее задание\n",
        "1. Попробуйте обучить нейронную сеть RNN/LSTM/GRU на любом другом датасете (любимый временной ряд, текст на русском (другом языке) как генератор или классификатор, или прилагаемый набор airline-passengers - пасажиропоток для авиалиний). \n",
        "\n",
        "2. Опишите, какой результат вы получили? Что помогло вам улучшить ее точность?"
      ]
    },
    {
      "cell_type": "markdown",
      "id": "05605bee",
      "metadata": {
        "id": "05605bee"
      },
      "source": [
        "### 1. Импорты "
      ]
    },
    {
      "cell_type": "code",
      "execution_count": 39,
      "id": "0e8ee090",
      "metadata": {
        "id": "0e8ee090"
      },
      "outputs": [],
      "source": [
        "import pandas as pd\n",
        "import numpy as np\n",
        "from keras.models import Sequential\n",
        "from keras.layers import Dense, Dropout, Activation, Flatten, GRU, Conv1D\n",
        "from keras.callbacks import EarlyStopping\n",
        "from sklearn.preprocessing import StandardScaler\n",
        "import matplotlib.pyplot as plt"
      ]
    },
    {
      "cell_type": "markdown",
      "id": "fcf203f1",
      "metadata": {
        "id": "fcf203f1"
      },
      "source": [
        "### 2. Загрузка и подготовка данных"
      ]
    },
    {
      "cell_type": "code",
      "execution_count": 1,
      "id": "cb67998d",
      "metadata": {
        "colab": {
          "base_uri": "https://localhost:8080/"
        },
        "id": "cb67998d",
        "outputId": "a3f93cad-7054-4abe-dff2-f48f2e214444"
      },
      "outputs": [
        {
          "output_type": "stream",
          "name": "stdout",
          "text": [
            "--2022-11-05 12:49:42--  https://drive.google.com/uc?export=download&id=1xwXieDVy1RKdfiJ6am_nNWp6XhAYdhNb\n",
            "Resolving drive.google.com (drive.google.com)... 142.251.162.101, 142.251.162.138, 142.251.162.139, ...\n",
            "Connecting to drive.google.com (drive.google.com)|142.251.162.101|:443... connected.\n",
            "HTTP request sent, awaiting response... 303 See Other\n",
            "Location: https://doc-08-c0-docs.googleusercontent.com/docs/securesc/ha0ro937gcuc7l7deffksulhg5h7mbp1/c39d598scoliqeoqqviln2v8ro2fosoc/1667652525000/14904333240138417226/*/1xwXieDVy1RKdfiJ6am_nNWp6XhAYdhNb?e=download&uuid=01b5400b-aa8c-40e1-b21e-c51eb0bbcf78 [following]\n",
            "Warning: wildcards not supported in HTTP.\n",
            "--2022-11-05 12:49:42--  https://doc-08-c0-docs.googleusercontent.com/docs/securesc/ha0ro937gcuc7l7deffksulhg5h7mbp1/c39d598scoliqeoqqviln2v8ro2fosoc/1667652525000/14904333240138417226/*/1xwXieDVy1RKdfiJ6am_nNWp6XhAYdhNb?e=download&uuid=01b5400b-aa8c-40e1-b21e-c51eb0bbcf78\n",
            "Resolving doc-08-c0-docs.googleusercontent.com (doc-08-c0-docs.googleusercontent.com)... 74.125.28.132, 2607:f8b0:400c:c34::84\n",
            "Connecting to doc-08-c0-docs.googleusercontent.com (doc-08-c0-docs.googleusercontent.com)|74.125.28.132|:443... connected.\n",
            "HTTP request sent, awaiting response... 200 OK\n",
            "Length: 2037 (2.0K) [text/csv]\n",
            "Saving to: ‘airline-passengers.csv’\n",
            "\n",
            "airline-passengers. 100%[===================>]   1.99K  --.-KB/s    in 0s      \n",
            "\n",
            "2022-11-05 12:49:42 (68.8 MB/s) - ‘airline-passengers.csv’ saved [2037/2037]\n",
            "\n"
          ]
        }
      ],
      "source": [
        "!wget 'https://drive.google.com/uc?export=download&id=1xwXieDVy1RKdfiJ6am_nNWp6XhAYdhNb' -O airline-passengers.csv"
      ]
    },
    {
      "cell_type": "code",
      "execution_count": 21,
      "id": "e3abdb60",
      "metadata": {
        "colab": {
          "base_uri": "https://localhost:8080/",
          "height": 206
        },
        "id": "e3abdb60",
        "outputId": "f0b787e0-12d6-4720-a858-4cdc2dba6b29"
      },
      "outputs": [
        {
          "output_type": "execute_result",
          "data": {
            "text/plain": [
              "     Month  Passengers\n",
              "0  1949-01         112\n",
              "1  1949-02         118\n",
              "2  1949-03         132\n",
              "3  1949-04         129\n",
              "4  1949-05         121"
            ],
            "text/html": [
              "\n",
              "  <div id=\"df-665c155b-bb00-4279-9f8b-2651361f0f83\">\n",
              "    <div class=\"colab-df-container\">\n",
              "      <div>\n",
              "<style scoped>\n",
              "    .dataframe tbody tr th:only-of-type {\n",
              "        vertical-align: middle;\n",
              "    }\n",
              "\n",
              "    .dataframe tbody tr th {\n",
              "        vertical-align: top;\n",
              "    }\n",
              "\n",
              "    .dataframe thead th {\n",
              "        text-align: right;\n",
              "    }\n",
              "</style>\n",
              "<table border=\"1\" class=\"dataframe\">\n",
              "  <thead>\n",
              "    <tr style=\"text-align: right;\">\n",
              "      <th></th>\n",
              "      <th>Month</th>\n",
              "      <th>Passengers</th>\n",
              "    </tr>\n",
              "  </thead>\n",
              "  <tbody>\n",
              "    <tr>\n",
              "      <th>0</th>\n",
              "      <td>1949-01</td>\n",
              "      <td>112</td>\n",
              "    </tr>\n",
              "    <tr>\n",
              "      <th>1</th>\n",
              "      <td>1949-02</td>\n",
              "      <td>118</td>\n",
              "    </tr>\n",
              "    <tr>\n",
              "      <th>2</th>\n",
              "      <td>1949-03</td>\n",
              "      <td>132</td>\n",
              "    </tr>\n",
              "    <tr>\n",
              "      <th>3</th>\n",
              "      <td>1949-04</td>\n",
              "      <td>129</td>\n",
              "    </tr>\n",
              "    <tr>\n",
              "      <th>4</th>\n",
              "      <td>1949-05</td>\n",
              "      <td>121</td>\n",
              "    </tr>\n",
              "  </tbody>\n",
              "</table>\n",
              "</div>\n",
              "      <button class=\"colab-df-convert\" onclick=\"convertToInteractive('df-665c155b-bb00-4279-9f8b-2651361f0f83')\"\n",
              "              title=\"Convert this dataframe to an interactive table.\"\n",
              "              style=\"display:none;\">\n",
              "        \n",
              "  <svg xmlns=\"http://www.w3.org/2000/svg\" height=\"24px\"viewBox=\"0 0 24 24\"\n",
              "       width=\"24px\">\n",
              "    <path d=\"M0 0h24v24H0V0z\" fill=\"none\"/>\n",
              "    <path d=\"M18.56 5.44l.94 2.06.94-2.06 2.06-.94-2.06-.94-.94-2.06-.94 2.06-2.06.94zm-11 1L8.5 8.5l.94-2.06 2.06-.94-2.06-.94L8.5 2.5l-.94 2.06-2.06.94zm10 10l.94 2.06.94-2.06 2.06-.94-2.06-.94-.94-2.06-.94 2.06-2.06.94z\"/><path d=\"M17.41 7.96l-1.37-1.37c-.4-.4-.92-.59-1.43-.59-.52 0-1.04.2-1.43.59L10.3 9.45l-7.72 7.72c-.78.78-.78 2.05 0 2.83L4 21.41c.39.39.9.59 1.41.59.51 0 1.02-.2 1.41-.59l7.78-7.78 2.81-2.81c.8-.78.8-2.07 0-2.86zM5.41 20L4 18.59l7.72-7.72 1.47 1.35L5.41 20z\"/>\n",
              "  </svg>\n",
              "      </button>\n",
              "      \n",
              "  <style>\n",
              "    .colab-df-container {\n",
              "      display:flex;\n",
              "      flex-wrap:wrap;\n",
              "      gap: 12px;\n",
              "    }\n",
              "\n",
              "    .colab-df-convert {\n",
              "      background-color: #E8F0FE;\n",
              "      border: none;\n",
              "      border-radius: 50%;\n",
              "      cursor: pointer;\n",
              "      display: none;\n",
              "      fill: #1967D2;\n",
              "      height: 32px;\n",
              "      padding: 0 0 0 0;\n",
              "      width: 32px;\n",
              "    }\n",
              "\n",
              "    .colab-df-convert:hover {\n",
              "      background-color: #E2EBFA;\n",
              "      box-shadow: 0px 1px 2px rgba(60, 64, 67, 0.3), 0px 1px 3px 1px rgba(60, 64, 67, 0.15);\n",
              "      fill: #174EA6;\n",
              "    }\n",
              "\n",
              "    [theme=dark] .colab-df-convert {\n",
              "      background-color: #3B4455;\n",
              "      fill: #D2E3FC;\n",
              "    }\n",
              "\n",
              "    [theme=dark] .colab-df-convert:hover {\n",
              "      background-color: #434B5C;\n",
              "      box-shadow: 0px 1px 3px 1px rgba(0, 0, 0, 0.15);\n",
              "      filter: drop-shadow(0px 1px 2px rgba(0, 0, 0, 0.3));\n",
              "      fill: #FFFFFF;\n",
              "    }\n",
              "  </style>\n",
              "\n",
              "      <script>\n",
              "        const buttonEl =\n",
              "          document.querySelector('#df-665c155b-bb00-4279-9f8b-2651361f0f83 button.colab-df-convert');\n",
              "        buttonEl.style.display =\n",
              "          google.colab.kernel.accessAllowed ? 'block' : 'none';\n",
              "\n",
              "        async function convertToInteractive(key) {\n",
              "          const element = document.querySelector('#df-665c155b-bb00-4279-9f8b-2651361f0f83');\n",
              "          const dataTable =\n",
              "            await google.colab.kernel.invokeFunction('convertToInteractive',\n",
              "                                                     [key], {});\n",
              "          if (!dataTable) return;\n",
              "\n",
              "          const docLinkHtml = 'Like what you see? Visit the ' +\n",
              "            '<a target=\"_blank\" href=https://colab.research.google.com/notebooks/data_table.ipynb>data table notebook</a>'\n",
              "            + ' to learn more about interactive tables.';\n",
              "          element.innerHTML = '';\n",
              "          dataTable['output_type'] = 'display_data';\n",
              "          await google.colab.output.renderOutput(dataTable, element);\n",
              "          const docLink = document.createElement('div');\n",
              "          docLink.innerHTML = docLinkHtml;\n",
              "          element.appendChild(docLink);\n",
              "        }\n",
              "      </script>\n",
              "    </div>\n",
              "  </div>\n",
              "  "
            ]
          },
          "metadata": {},
          "execution_count": 21
        }
      ],
      "source": [
        "df = pd.read_csv('/content/airline-passengers.csv')\n",
        "df.head()"
      ]
    },
    {
      "cell_type": "code",
      "source": [
        "df['Year'] = df.Month.apply(lambda x: x[:4])\n",
        "df.Month = df.Month.apply(lambda x: x[5:])\n",
        "df"
      ],
      "metadata": {
        "colab": {
          "base_uri": "https://localhost:8080/",
          "height": 424
        },
        "id": "Myl9jWfA2dDq",
        "outputId": "6ca6f006-82e1-4a67-b96d-32ee20bbcba9"
      },
      "id": "Myl9jWfA2dDq",
      "execution_count": 22,
      "outputs": [
        {
          "output_type": "execute_result",
          "data": {
            "text/plain": [
              "    Month  Passengers  Year\n",
              "0      01         112  1949\n",
              "1      02         118  1949\n",
              "2      03         132  1949\n",
              "3      04         129  1949\n",
              "4      05         121  1949\n",
              "..    ...         ...   ...\n",
              "139    08         606  1960\n",
              "140    09         508  1960\n",
              "141    10         461  1960\n",
              "142    11         390  1960\n",
              "143    12         432  1960\n",
              "\n",
              "[144 rows x 3 columns]"
            ],
            "text/html": [
              "\n",
              "  <div id=\"df-847e99dd-3093-4eed-bf78-c3cf7b29a0b8\">\n",
              "    <div class=\"colab-df-container\">\n",
              "      <div>\n",
              "<style scoped>\n",
              "    .dataframe tbody tr th:only-of-type {\n",
              "        vertical-align: middle;\n",
              "    }\n",
              "\n",
              "    .dataframe tbody tr th {\n",
              "        vertical-align: top;\n",
              "    }\n",
              "\n",
              "    .dataframe thead th {\n",
              "        text-align: right;\n",
              "    }\n",
              "</style>\n",
              "<table border=\"1\" class=\"dataframe\">\n",
              "  <thead>\n",
              "    <tr style=\"text-align: right;\">\n",
              "      <th></th>\n",
              "      <th>Month</th>\n",
              "      <th>Passengers</th>\n",
              "      <th>Year</th>\n",
              "    </tr>\n",
              "  </thead>\n",
              "  <tbody>\n",
              "    <tr>\n",
              "      <th>0</th>\n",
              "      <td>01</td>\n",
              "      <td>112</td>\n",
              "      <td>1949</td>\n",
              "    </tr>\n",
              "    <tr>\n",
              "      <th>1</th>\n",
              "      <td>02</td>\n",
              "      <td>118</td>\n",
              "      <td>1949</td>\n",
              "    </tr>\n",
              "    <tr>\n",
              "      <th>2</th>\n",
              "      <td>03</td>\n",
              "      <td>132</td>\n",
              "      <td>1949</td>\n",
              "    </tr>\n",
              "    <tr>\n",
              "      <th>3</th>\n",
              "      <td>04</td>\n",
              "      <td>129</td>\n",
              "      <td>1949</td>\n",
              "    </tr>\n",
              "    <tr>\n",
              "      <th>4</th>\n",
              "      <td>05</td>\n",
              "      <td>121</td>\n",
              "      <td>1949</td>\n",
              "    </tr>\n",
              "    <tr>\n",
              "      <th>...</th>\n",
              "      <td>...</td>\n",
              "      <td>...</td>\n",
              "      <td>...</td>\n",
              "    </tr>\n",
              "    <tr>\n",
              "      <th>139</th>\n",
              "      <td>08</td>\n",
              "      <td>606</td>\n",
              "      <td>1960</td>\n",
              "    </tr>\n",
              "    <tr>\n",
              "      <th>140</th>\n",
              "      <td>09</td>\n",
              "      <td>508</td>\n",
              "      <td>1960</td>\n",
              "    </tr>\n",
              "    <tr>\n",
              "      <th>141</th>\n",
              "      <td>10</td>\n",
              "      <td>461</td>\n",
              "      <td>1960</td>\n",
              "    </tr>\n",
              "    <tr>\n",
              "      <th>142</th>\n",
              "      <td>11</td>\n",
              "      <td>390</td>\n",
              "      <td>1960</td>\n",
              "    </tr>\n",
              "    <tr>\n",
              "      <th>143</th>\n",
              "      <td>12</td>\n",
              "      <td>432</td>\n",
              "      <td>1960</td>\n",
              "    </tr>\n",
              "  </tbody>\n",
              "</table>\n",
              "<p>144 rows × 3 columns</p>\n",
              "</div>\n",
              "      <button class=\"colab-df-convert\" onclick=\"convertToInteractive('df-847e99dd-3093-4eed-bf78-c3cf7b29a0b8')\"\n",
              "              title=\"Convert this dataframe to an interactive table.\"\n",
              "              style=\"display:none;\">\n",
              "        \n",
              "  <svg xmlns=\"http://www.w3.org/2000/svg\" height=\"24px\"viewBox=\"0 0 24 24\"\n",
              "       width=\"24px\">\n",
              "    <path d=\"M0 0h24v24H0V0z\" fill=\"none\"/>\n",
              "    <path d=\"M18.56 5.44l.94 2.06.94-2.06 2.06-.94-2.06-.94-.94-2.06-.94 2.06-2.06.94zm-11 1L8.5 8.5l.94-2.06 2.06-.94-2.06-.94L8.5 2.5l-.94 2.06-2.06.94zm10 10l.94 2.06.94-2.06 2.06-.94-2.06-.94-.94-2.06-.94 2.06-2.06.94z\"/><path d=\"M17.41 7.96l-1.37-1.37c-.4-.4-.92-.59-1.43-.59-.52 0-1.04.2-1.43.59L10.3 9.45l-7.72 7.72c-.78.78-.78 2.05 0 2.83L4 21.41c.39.39.9.59 1.41.59.51 0 1.02-.2 1.41-.59l7.78-7.78 2.81-2.81c.8-.78.8-2.07 0-2.86zM5.41 20L4 18.59l7.72-7.72 1.47 1.35L5.41 20z\"/>\n",
              "  </svg>\n",
              "      </button>\n",
              "      \n",
              "  <style>\n",
              "    .colab-df-container {\n",
              "      display:flex;\n",
              "      flex-wrap:wrap;\n",
              "      gap: 12px;\n",
              "    }\n",
              "\n",
              "    .colab-df-convert {\n",
              "      background-color: #E8F0FE;\n",
              "      border: none;\n",
              "      border-radius: 50%;\n",
              "      cursor: pointer;\n",
              "      display: none;\n",
              "      fill: #1967D2;\n",
              "      height: 32px;\n",
              "      padding: 0 0 0 0;\n",
              "      width: 32px;\n",
              "    }\n",
              "\n",
              "    .colab-df-convert:hover {\n",
              "      background-color: #E2EBFA;\n",
              "      box-shadow: 0px 1px 2px rgba(60, 64, 67, 0.3), 0px 1px 3px 1px rgba(60, 64, 67, 0.15);\n",
              "      fill: #174EA6;\n",
              "    }\n",
              "\n",
              "    [theme=dark] .colab-df-convert {\n",
              "      background-color: #3B4455;\n",
              "      fill: #D2E3FC;\n",
              "    }\n",
              "\n",
              "    [theme=dark] .colab-df-convert:hover {\n",
              "      background-color: #434B5C;\n",
              "      box-shadow: 0px 1px 3px 1px rgba(0, 0, 0, 0.15);\n",
              "      filter: drop-shadow(0px 1px 2px rgba(0, 0, 0, 0.3));\n",
              "      fill: #FFFFFF;\n",
              "    }\n",
              "  </style>\n",
              "\n",
              "      <script>\n",
              "        const buttonEl =\n",
              "          document.querySelector('#df-847e99dd-3093-4eed-bf78-c3cf7b29a0b8 button.colab-df-convert');\n",
              "        buttonEl.style.display =\n",
              "          google.colab.kernel.accessAllowed ? 'block' : 'none';\n",
              "\n",
              "        async function convertToInteractive(key) {\n",
              "          const element = document.querySelector('#df-847e99dd-3093-4eed-bf78-c3cf7b29a0b8');\n",
              "          const dataTable =\n",
              "            await google.colab.kernel.invokeFunction('convertToInteractive',\n",
              "                                                     [key], {});\n",
              "          if (!dataTable) return;\n",
              "\n",
              "          const docLinkHtml = 'Like what you see? Visit the ' +\n",
              "            '<a target=\"_blank\" href=https://colab.research.google.com/notebooks/data_table.ipynb>data table notebook</a>'\n",
              "            + ' to learn more about interactive tables.';\n",
              "          element.innerHTML = '';\n",
              "          dataTable['output_type'] = 'display_data';\n",
              "          await google.colab.output.renderOutput(dataTable, element);\n",
              "          const docLink = document.createElement('div');\n",
              "          docLink.innerHTML = docLinkHtml;\n",
              "          element.appendChild(docLink);\n",
              "        }\n",
              "      </script>\n",
              "    </div>\n",
              "  </div>\n",
              "  "
            ]
          },
          "metadata": {},
          "execution_count": 22
        }
      ]
    },
    {
      "cell_type": "markdown",
      "source": [
        "Разбиение на трейн и тест"
      ],
      "metadata": {
        "id": "0vJl5E2_18yO"
      },
      "id": "0vJl5E2_18yO"
    },
    {
      "cell_type": "code",
      "source": [
        "train_size = 100\n",
        "\n",
        "\n",
        "# список признаков, по которым будем учить\n",
        "features = ['Year', 'Month', 'Passengers']\n",
        "            \n",
        "# отступ теста от тренировки\n",
        "bias = 8\n",
        "\n",
        "\n",
        "# делим\n",
        "train_data = df.iloc[:train_size][features]\n",
        "val_data = df.iloc[train_size + bias:][features]\n",
        "\n",
        "train_data.shape, val_data.shape"
      ],
      "metadata": {
        "colab": {
          "base_uri": "https://localhost:8080/"
        },
        "id": "BlHB3wYU2i9y",
        "outputId": "50287473-14df-42a2-c1c5-e18469a98a0c"
      },
      "id": "BlHB3wYU2i9y",
      "execution_count": 24,
      "outputs": [
        {
          "output_type": "execute_result",
          "data": {
            "text/plain": [
              "((100, 3), (36, 3))"
            ]
          },
          "metadata": {},
          "execution_count": 24
        }
      ]
    },
    {
      "cell_type": "markdown",
      "source": [
        "Стандартизация"
      ],
      "metadata": {
        "id": "4FWPXiJo55-W"
      },
      "id": "4FWPXiJo55-W"
    },
    {
      "cell_type": "code",
      "source": [
        "features = train_data.columns[:2]\n",
        "target = train_data.columns[2]\n",
        "scaler = StandardScaler()\n",
        "\n",
        "train_data[features] = scaler.fit_transform(train_data[features])\n",
        "val_data[features] = scaler.transform(val_data[features])\n",
        "\n",
        "train_data"
      ],
      "metadata": {
        "colab": {
          "base_uri": "https://localhost:8080/",
          "height": 424
        },
        "id": "5e2Qq4lJ2960",
        "outputId": "e3951e3b-16a2-4470-dad8-6776aaabb625"
      },
      "id": "5e2Qq4lJ2960",
      "execution_count": 28,
      "outputs": [
        {
          "output_type": "execute_result",
          "data": {
            "text/plain": [
              "        Year     Month  Passengers\n",
              "0  -1.525724 -1.534863         112\n",
              "1  -1.525724 -1.247435         118\n",
              "2  -1.525724 -0.960008         132\n",
              "3  -1.525724 -0.672580         129\n",
              "4  -1.525724 -0.385153         121\n",
              "..       ...       ...         ...\n",
              "95  1.376468  1.626840         306\n",
              "96  1.791067 -1.534863         315\n",
              "97  1.791067 -1.247435         301\n",
              "98  1.791067 -0.960008         356\n",
              "99  1.791067 -0.672580         348\n",
              "\n",
              "[100 rows x 3 columns]"
            ],
            "text/html": [
              "\n",
              "  <div id=\"df-b0e2fcae-e560-4856-aa19-073ca6c027c1\">\n",
              "    <div class=\"colab-df-container\">\n",
              "      <div>\n",
              "<style scoped>\n",
              "    .dataframe tbody tr th:only-of-type {\n",
              "        vertical-align: middle;\n",
              "    }\n",
              "\n",
              "    .dataframe tbody tr th {\n",
              "        vertical-align: top;\n",
              "    }\n",
              "\n",
              "    .dataframe thead th {\n",
              "        text-align: right;\n",
              "    }\n",
              "</style>\n",
              "<table border=\"1\" class=\"dataframe\">\n",
              "  <thead>\n",
              "    <tr style=\"text-align: right;\">\n",
              "      <th></th>\n",
              "      <th>Year</th>\n",
              "      <th>Month</th>\n",
              "      <th>Passengers</th>\n",
              "    </tr>\n",
              "  </thead>\n",
              "  <tbody>\n",
              "    <tr>\n",
              "      <th>0</th>\n",
              "      <td>-1.525724</td>\n",
              "      <td>-1.534863</td>\n",
              "      <td>112</td>\n",
              "    </tr>\n",
              "    <tr>\n",
              "      <th>1</th>\n",
              "      <td>-1.525724</td>\n",
              "      <td>-1.247435</td>\n",
              "      <td>118</td>\n",
              "    </tr>\n",
              "    <tr>\n",
              "      <th>2</th>\n",
              "      <td>-1.525724</td>\n",
              "      <td>-0.960008</td>\n",
              "      <td>132</td>\n",
              "    </tr>\n",
              "    <tr>\n",
              "      <th>3</th>\n",
              "      <td>-1.525724</td>\n",
              "      <td>-0.672580</td>\n",
              "      <td>129</td>\n",
              "    </tr>\n",
              "    <tr>\n",
              "      <th>4</th>\n",
              "      <td>-1.525724</td>\n",
              "      <td>-0.385153</td>\n",
              "      <td>121</td>\n",
              "    </tr>\n",
              "    <tr>\n",
              "      <th>...</th>\n",
              "      <td>...</td>\n",
              "      <td>...</td>\n",
              "      <td>...</td>\n",
              "    </tr>\n",
              "    <tr>\n",
              "      <th>95</th>\n",
              "      <td>1.376468</td>\n",
              "      <td>1.626840</td>\n",
              "      <td>306</td>\n",
              "    </tr>\n",
              "    <tr>\n",
              "      <th>96</th>\n",
              "      <td>1.791067</td>\n",
              "      <td>-1.534863</td>\n",
              "      <td>315</td>\n",
              "    </tr>\n",
              "    <tr>\n",
              "      <th>97</th>\n",
              "      <td>1.791067</td>\n",
              "      <td>-1.247435</td>\n",
              "      <td>301</td>\n",
              "    </tr>\n",
              "    <tr>\n",
              "      <th>98</th>\n",
              "      <td>1.791067</td>\n",
              "      <td>-0.960008</td>\n",
              "      <td>356</td>\n",
              "    </tr>\n",
              "    <tr>\n",
              "      <th>99</th>\n",
              "      <td>1.791067</td>\n",
              "      <td>-0.672580</td>\n",
              "      <td>348</td>\n",
              "    </tr>\n",
              "  </tbody>\n",
              "</table>\n",
              "<p>100 rows × 3 columns</p>\n",
              "</div>\n",
              "      <button class=\"colab-df-convert\" onclick=\"convertToInteractive('df-b0e2fcae-e560-4856-aa19-073ca6c027c1')\"\n",
              "              title=\"Convert this dataframe to an interactive table.\"\n",
              "              style=\"display:none;\">\n",
              "        \n",
              "  <svg xmlns=\"http://www.w3.org/2000/svg\" height=\"24px\"viewBox=\"0 0 24 24\"\n",
              "       width=\"24px\">\n",
              "    <path d=\"M0 0h24v24H0V0z\" fill=\"none\"/>\n",
              "    <path d=\"M18.56 5.44l.94 2.06.94-2.06 2.06-.94-2.06-.94-.94-2.06-.94 2.06-2.06.94zm-11 1L8.5 8.5l.94-2.06 2.06-.94-2.06-.94L8.5 2.5l-.94 2.06-2.06.94zm10 10l.94 2.06.94-2.06 2.06-.94-2.06-.94-.94-2.06-.94 2.06-2.06.94z\"/><path d=\"M17.41 7.96l-1.37-1.37c-.4-.4-.92-.59-1.43-.59-.52 0-1.04.2-1.43.59L10.3 9.45l-7.72 7.72c-.78.78-.78 2.05 0 2.83L4 21.41c.39.39.9.59 1.41.59.51 0 1.02-.2 1.41-.59l7.78-7.78 2.81-2.81c.8-.78.8-2.07 0-2.86zM5.41 20L4 18.59l7.72-7.72 1.47 1.35L5.41 20z\"/>\n",
              "  </svg>\n",
              "      </button>\n",
              "      \n",
              "  <style>\n",
              "    .colab-df-container {\n",
              "      display:flex;\n",
              "      flex-wrap:wrap;\n",
              "      gap: 12px;\n",
              "    }\n",
              "\n",
              "    .colab-df-convert {\n",
              "      background-color: #E8F0FE;\n",
              "      border: none;\n",
              "      border-radius: 50%;\n",
              "      cursor: pointer;\n",
              "      display: none;\n",
              "      fill: #1967D2;\n",
              "      height: 32px;\n",
              "      padding: 0 0 0 0;\n",
              "      width: 32px;\n",
              "    }\n",
              "\n",
              "    .colab-df-convert:hover {\n",
              "      background-color: #E2EBFA;\n",
              "      box-shadow: 0px 1px 2px rgba(60, 64, 67, 0.3), 0px 1px 3px 1px rgba(60, 64, 67, 0.15);\n",
              "      fill: #174EA6;\n",
              "    }\n",
              "\n",
              "    [theme=dark] .colab-df-convert {\n",
              "      background-color: #3B4455;\n",
              "      fill: #D2E3FC;\n",
              "    }\n",
              "\n",
              "    [theme=dark] .colab-df-convert:hover {\n",
              "      background-color: #434B5C;\n",
              "      box-shadow: 0px 1px 3px 1px rgba(0, 0, 0, 0.15);\n",
              "      filter: drop-shadow(0px 1px 2px rgba(0, 0, 0, 0.3));\n",
              "      fill: #FFFFFF;\n",
              "    }\n",
              "  </style>\n",
              "\n",
              "      <script>\n",
              "        const buttonEl =\n",
              "          document.querySelector('#df-b0e2fcae-e560-4856-aa19-073ca6c027c1 button.colab-df-convert');\n",
              "        buttonEl.style.display =\n",
              "          google.colab.kernel.accessAllowed ? 'block' : 'none';\n",
              "\n",
              "        async function convertToInteractive(key) {\n",
              "          const element = document.querySelector('#df-b0e2fcae-e560-4856-aa19-073ca6c027c1');\n",
              "          const dataTable =\n",
              "            await google.colab.kernel.invokeFunction('convertToInteractive',\n",
              "                                                     [key], {});\n",
              "          if (!dataTable) return;\n",
              "\n",
              "          const docLinkHtml = 'Like what you see? Visit the ' +\n",
              "            '<a target=\"_blank\" href=https://colab.research.google.com/notebooks/data_table.ipynb>data table notebook</a>'\n",
              "            + ' to learn more about interactive tables.';\n",
              "          element.innerHTML = '';\n",
              "          dataTable['output_type'] = 'display_data';\n",
              "          await google.colab.output.renderOutput(dataTable, element);\n",
              "          const docLink = document.createElement('div');\n",
              "          docLink.innerHTML = docLinkHtml;\n",
              "          element.appendChild(docLink);\n",
              "        }\n",
              "      </script>\n",
              "    </div>\n",
              "  </div>\n",
              "  "
            ]
          },
          "metadata": {},
          "execution_count": 28
        }
      ]
    },
    {
      "cell_type": "markdown",
      "source": [
        "Формируем параметры для генерации выборки"
      ],
      "metadata": {
        "id": "C7SyIfDc665s"
      },
      "id": "C7SyIfDc665s"
    },
    {
      "cell_type": "code",
      "source": [
        "# длина истории\n",
        "x_len = 7\n",
        "\n",
        "# горизонт предсказания\n",
        "future = 1\n",
        "\n",
        "# параметры модели для обучения\n",
        "learning_rate = 0.005\n",
        "batch_size = 32\n",
        "epochs = 100"
      ],
      "metadata": {
        "id": "9P_xSqHP676Q"
      },
      "id": "9P_xSqHP676Q",
      "execution_count": 44,
      "outputs": []
    },
    {
      "cell_type": "code",
      "source": [
        "start = x_len + future\n",
        "end = start + train_size\n",
        "\n",
        "print(start, end)\n",
        "\n",
        "X_train = train_data[features].values\n",
        "y_train = df.iloc[start:end][target].values\n",
        "\n",
        "\n",
        "x_end = len(val_data) - x_len - future\n",
        "label_start = len(train_data) + bias + x_len + future\n",
        "print(x_end, label_start)\n",
        "\n",
        "X_val = val_data.iloc[:x_end][features].values\n",
        "y_val = df.iloc[label_start:][target].values"
      ],
      "metadata": {
        "colab": {
          "base_uri": "https://localhost:8080/"
        },
        "id": "xzJETqWv7CBX",
        "outputId": "77908ace-8a17-44cc-ce27-6d2d611c789e"
      },
      "id": "xzJETqWv7CBX",
      "execution_count": 31,
      "outputs": [
        {
          "output_type": "stream",
          "name": "stdout",
          "text": [
            "8 108\n",
            "28 116\n"
          ]
        }
      ]
    },
    {
      "cell_type": "code",
      "source": [
        "X_train.shape, y_train.shape, X_val.shape, y_val.shape"
      ],
      "metadata": {
        "colab": {
          "base_uri": "https://localhost:8080/"
        },
        "id": "Zd6bvS8L7PSv",
        "outputId": "9e9d300c-bf5d-4dc2-bf6c-3737341c89e5"
      },
      "id": "Zd6bvS8L7PSv",
      "execution_count": 32,
      "outputs": [
        {
          "output_type": "execute_result",
          "data": {
            "text/plain": [
              "((100, 2), (100,), (28, 2), (28,))"
            ]
          },
          "metadata": {},
          "execution_count": 32
        }
      ]
    },
    {
      "cell_type": "code",
      "source": [
        "plt.figure(figsize=(10, 5))\n",
        "plt.plot(df.index[x_len:y_train.shape[0]+x_len],y_train[:])\n",
        "plt.plot(df.index[y_train.shape[0]+x_len+bias+future:],y_val[:])\n",
        "plt.grid('on')\n",
        "plt.xlabel('t, дни')\n",
        "plt.ylabel('чел')\n",
        "plt.title('пассажиропоток за 1949-1960 гг.')\n",
        "plt.show()"
      ],
      "metadata": {
        "colab": {
          "base_uri": "https://localhost:8080/",
          "height": 350
        },
        "id": "P762avlQ7TFG",
        "outputId": "97c05aee-cbbc-4150-d625-981f9f9a2f3c"
      },
      "id": "P762avlQ7TFG",
      "execution_count": 34,
      "outputs": [
        {
          "output_type": "display_data",
          "data": {
            "text/plain": [
              "<Figure size 720x360 with 1 Axes>"
            ],
            "image/png": "[encoded data removed]"
          },
          "metadata": {
            "needs_background": "light"
          }
        }
      ]
    },
    {
      "cell_type": "code",
      "source": [
        "from tensorflow.keras.preprocessing import timeseries_dataset_from_array\n",
        "\n",
        "dataset_train = timeseries_dataset_from_array(\n",
        "    X_train,\n",
        "    y_train,\n",
        "    sequence_length=x_len,\n",
        "    sampling_rate=1,\n",
        "    batch_size=batch_size,\n",
        ")\n",
        "\n",
        "dataset_val = timeseries_dataset_from_array(\n",
        "    X_val,\n",
        "    y_val,\n",
        "    sequence_length=x_len,\n",
        "    sampling_rate=1,\n",
        "    batch_size=batch_size,\n",
        ")"
      ],
      "metadata": {
        "id": "GwTfgA9A707v"
      },
      "id": "GwTfgA9A707v",
      "execution_count": 36,
      "outputs": []
    },
    {
      "cell_type": "code",
      "source": [
        "for batch in dataset_train:\n",
        "    inputs, targets = batch\n",
        "    print(\"Input shape:\", inputs.shape)\n",
        "    print(inputs[1])\n",
        "    print(\"Target shape:\", targets.shape)\n",
        "    print(targets[1])\n",
        "    break"
      ],
      "metadata": {
        "colab": {
          "base_uri": "https://localhost:8080/"
        },
        "id": "PrVbmoEa72gE",
        "outputId": "4fe4295f-bc12-40c3-b6b1-bce35d218892"
      },
      "id": "PrVbmoEa72gE",
      "execution_count": 37,
      "outputs": [
        {
          "output_type": "stream",
          "name": "stdout",
          "text": [
            "Input shape: (32, 7, 2)\n",
            "tf.Tensor(\n",
            "[[-1.52572369 -1.24743549]\n",
            " [-1.52572369 -0.96000796]\n",
            " [-1.52572369 -0.67258043]\n",
            " [-1.52572369 -0.38515289]\n",
            " [-1.52572369 -0.09772536]\n",
            " [-1.52572369  0.18970217]\n",
            " [-1.52572369  0.4771297 ]], shape=(7, 2), dtype=float64)\n",
            "Target shape: (32,)\n",
            "tf.Tensor(119, shape=(), dtype=int64)\n"
          ]
        }
      ]
    },
    {
      "cell_type": "markdown",
      "source": [
        "### 3. Подготовка модели"
      ],
      "metadata": {
        "id": "-iFhiRoH6IAW"
      },
      "id": "-iFhiRoH6IAW"
    },
    {
      "cell_type": "markdown",
      "source": [
        "Буду обучать модель: GRU слои + Conv1D + Dense слой"
      ],
      "metadata": {
        "id": "B6cKjYNW6J7N"
      },
      "id": "B6cKjYNW6J7N"
    },
    {
      "cell_type": "code",
      "source": [
        "early_stop = EarlyStopping(monitor='val_mae', patience=5)\n",
        "\n",
        "\n",
        "model = Sequential()\n",
        "\n",
        "model.add(GRU(64, input_shape=(inputs.shape[1], inputs.shape[2]),\n",
        "               return_sequences=True))\n",
        "model.add(GRU(64, return_sequences=True))\n",
        "model.add(Conv1D(128, 3, activation='linear'))\n",
        "model.add(Conv1D(128, 1, activation='linear'))\n",
        "model.add(Flatten())\n",
        "model.add(Dense(64, activation='linear'))\n",
        "model.add(Dense(1, activation='linear'))\n",
        "\n",
        "\n",
        "model.compile(loss='mse', optimizer='adam', metrics=['mae'])\n",
        "model.summary()"
      ],
      "metadata": {
        "colab": {
          "base_uri": "https://localhost:8080/"
        },
        "id": "SgCr9jq_6RuM",
        "outputId": "5d08b2db-3a24-4421-913e-8a4a26b2d325"
      },
      "id": "SgCr9jq_6RuM",
      "execution_count": 46,
      "outputs": [
        {
          "output_type": "stream",
          "name": "stdout",
          "text": [
            "Model: \"sequential_2\"\n",
            "_________________________________________________________________\n",
            " Layer (type)                Output Shape              Param #   \n",
            "=================================================================\n",
            " gru_4 (GRU)                 (None, 7, 64)             13056     \n",
            "                                                                 \n",
            " gru_5 (GRU)                 (None, 7, 64)             24960     \n",
            "                                                                 \n",
            " conv1d_4 (Conv1D)           (None, 5, 128)            24704     \n",
            "                                                                 \n",
            " conv1d_5 (Conv1D)           (None, 5, 128)            16512     \n",
            "                                                                 \n",
            " flatten_2 (Flatten)         (None, 640)               0         \n",
            "                                                                 \n",
            " dense_4 (Dense)             (None, 64)                41024     \n",
            "                                                                 \n",
            " dense_5 (Dense)             (None, 1)                 65        \n",
            "                                                                 \n",
            "=================================================================\n",
            "Total params: 120,321\n",
            "Trainable params: 120,321\n",
            "Non-trainable params: 0\n",
            "_________________________________________________________________\n"
          ]
        }
      ]
    },
    {
      "cell_type": "markdown",
      "source": [
        "### 4. Обучение модели"
      ],
      "metadata": {
        "id": "1k_64uT18XIn"
      },
      "id": "1k_64uT18XIn"
    },
    {
      "cell_type": "code",
      "source": [
        "history = model.fit(dataset_train,\n",
        "                    epochs=epochs,\n",
        "                    validation_data=dataset_val,\n",
        "                    callbacks=[early_stop])"
      ],
      "metadata": {
        "colab": {
          "base_uri": "https://localhost:8080/"
        },
        "id": "G1A26_Cu8TF2",
        "outputId": "d0952cc3-4a08-41e4-cd82-976cb1132a42"
      },
      "id": "G1A26_Cu8TF2",
      "execution_count": 47,
      "outputs": [
        {
          "output_type": "stream",
          "name": "stdout",
          "text": [
            "Epoch 1/100\n",
            "3/3 [==============================] - 5s 498ms/step - loss: 58484.8047 - mae: 229.7348 - val_loss: 182146.0469 - val_mae: 421.6422\n",
            "Epoch 2/100\n",
            "3/3 [==============================] - 0s 51ms/step - loss: 58195.5273 - mae: 229.0816 - val_loss: 181393.5156 - val_mae: 420.7581\n",
            "Epoch 3/100\n",
            "3/3 [==============================] - 0s 47ms/step - loss: 58019.9844 - mae: 228.7840 - val_loss: 180630.1719 - val_mae: 419.8606\n",
            "Epoch 4/100\n",
            "3/3 [==============================] - 0s 49ms/step - loss: 57663.4258 - mae: 228.1001 - val_loss: 179277.8438 - val_mae: 418.2639\n",
            "Epoch 5/100\n",
            "3/3 [==============================] - 0s 47ms/step - loss: 56818.1758 - mae: 226.4157 - val_loss: 176335.0156 - val_mae: 414.7644\n",
            "Epoch 6/100\n",
            "3/3 [==============================] - 0s 52ms/step - loss: 54842.2461 - mae: 222.3753 - val_loss: 169813.3906 - val_mae: 406.8957\n",
            "Epoch 7/100\n",
            "3/3 [==============================] - 0s 51ms/step - loss: 50445.7969 - mae: 213.0316 - val_loss: 155690.3438 - val_mae: 389.2849\n",
            "Epoch 8/100\n",
            "3/3 [==============================] - 0s 56ms/step - loss: 41406.0547 - mae: 192.2390 - val_loss: 126742.3438 - val_mae: 350.2768\n",
            "Epoch 9/100\n",
            "3/3 [==============================] - 0s 52ms/step - loss: 25346.0059 - mae: 147.5611 - val_loss: 74342.6484 - val_mae: 264.4702\n",
            "Epoch 10/100\n",
            "3/3 [==============================] - 0s 51ms/step - loss: 6679.3442 - mae: 62.6401 - val_loss: 13004.7910 - val_mae: 86.3038\n",
            "Epoch 11/100\n",
            "3/3 [==============================] - 0s 53ms/step - loss: 9450.9824 - mae: 83.3670 - val_loss: 6551.3130 - val_mae: 73.1386\n",
            "Epoch 12/100\n",
            "3/3 [==============================] - 0s 50ms/step - loss: 5051.0415 - mae: 61.6774 - val_loss: 3109.2021 - val_mae: 46.3333\n",
            "Epoch 13/100\n",
            "3/3 [==============================] - 0s 51ms/step - loss: 1058.6785 - mae: 23.8519 - val_loss: 4623.1353 - val_mae: 50.8460\n",
            "Epoch 14/100\n",
            "3/3 [==============================] - 0s 54ms/step - loss: 3200.2563 - mae: 49.6710 - val_loss: 5138.1816 - val_mae: 54.4678\n",
            "Epoch 15/100\n",
            "3/3 [==============================] - 0s 47ms/step - loss: 3186.0938 - mae: 48.4528 - val_loss: 3729.1335 - val_mae: 50.7300\n",
            "Epoch 16/100\n",
            "3/3 [==============================] - 0s 48ms/step - loss: 2122.3811 - mae: 39.5158 - val_loss: 4804.6724 - val_mae: 58.9626\n",
            "Epoch 17/100\n",
            "3/3 [==============================] - 0s 52ms/step - loss: 1846.6296 - mae: 33.8300 - val_loss: 4207.2344 - val_mae: 55.1329\n"
          ]
        }
      ]
    },
    {
      "cell_type": "markdown",
      "source": [
        "### 5. Визуализация работы модели"
      ],
      "metadata": {
        "id": "gPMLXvpa8_yB"
      },
      "id": "gPMLXvpa8_yB"
    },
    {
      "cell_type": "code",
      "source": [
        "plt.plot(history.history['mae'][:], \n",
        "         label='MAE на обучающем наборе')\n",
        "plt.plot(history.history['val_mae'][:], \n",
        "         label='MAE на проверочном наборе')\n",
        "\n",
        "plt.ylabel('Средняя ошибка')\n",
        "plt.legend()\n",
        "plt.show()"
      ],
      "metadata": {
        "colab": {
          "base_uri": "https://localhost:8080/",
          "height": 265
        },
        "id": "RNyW8fn-9KZt",
        "outputId": "3ffdf6aa-42ae-4b1f-fe13-6ca9a58bed06"
      },
      "id": "RNyW8fn-9KZt",
      "execution_count": 48,
      "outputs": [
        {
          "output_type": "display_data",
          "data": {
            "text/plain": [
              "<Figure size 432x288 with 1 Axes>"
            ],
            "image/png": "[encoded data removed]"
          },
          "metadata": {
            "needs_background": "light"
          }
        }
      ]
    },
    {
      "cell_type": "markdown",
      "source": [
        "Проверяем результаты:\n",
        "\n",
        "- строим предсказание\n",
        "- рисуем прогноз для тестовой части \n",
        "- рисуем прогноз по тренировочной части"
      ],
      "metadata": {
        "id": "ORRkHjuj9X41"
      },
      "id": "ORRkHjuj9X41"
    },
    {
      "cell_type": "code",
      "source": [
        "pred = model.predict(dataset_train).flatten()\n",
        "pred_val = model.predict(dataset_val).flatten()"
      ],
      "metadata": {
        "colab": {
          "base_uri": "https://localhost:8080/"
        },
        "id": "cN_ffhII9eY3",
        "outputId": "a20ae49b-a44a-4544-ea9e-5307038474b1"
      },
      "id": "cN_ffhII9eY3",
      "execution_count": 49,
      "outputs": [
        {
          "output_type": "stream",
          "name": "stdout",
          "text": [
            "3/3 [==============================] - 1s 10ms/step\n",
            "1/1 [==============================] - 0s 49ms/step\n"
          ]
        }
      ]
    },
    {
      "cell_type": "code",
      "source": [
        "start = 0\n",
        "step = 50\n",
        "plt.figure(figsize=(10, 5))\n",
        "plt.grid('on')\n",
        "plt.plot(pred_val[future + start: future + start + step], \n",
        "         label='Прогноз')\n",
        "plt.plot(y_val.flatten()[start: start+step], \n",
        "         label='Базовый ряд')\n",
        "plt.xlabel('Время')\n",
        "plt.ylabel('Значение ')\n",
        "\n",
        "plt.legend()\n",
        "plt.show()"
      ],
      "metadata": {
        "colab": {
          "base_uri": "https://localhost:8080/",
          "height": 334
        },
        "id": "duGaUtgi9hXH",
        "outputId": "3846de6f-a1ae-4bee-8518-bd85806f908c"
      },
      "id": "duGaUtgi9hXH",
      "execution_count": 50,
      "outputs": [
        {
          "output_type": "display_data",
          "data": {
            "text/plain": [
              "<Figure size 720x360 with 1 Axes>"
            ],
            "image/png": "[encoded data removed]"
          },
          "metadata": {
            "needs_background": "light"
          }
        }
      ]
    },
    {
      "cell_type": "code",
      "source": [
        "start = 0\n",
        "\n",
        "plt.figure(figsize=(10, 5))\n",
        "plt.grid('on')\n",
        "plt.plot(pred[future + start: future + train_size], \n",
        "         label='Прогноз')\n",
        "plt.plot(y_train.flatten()[start: train_size], \n",
        "         label='Базовый ряд')\n",
        "plt.xlabel('Время')\n",
        "plt.ylabel('Значение')\n",
        "plt.legend()\n",
        "plt.show()"
      ],
      "metadata": {
        "colab": {
          "base_uri": "https://localhost:8080/",
          "height": 334
        },
        "id": "GvvQ2Q9z9qY3",
        "outputId": "957e8f11-e9c8-42f9-d25b-da43a326616a"
      },
      "id": "GvvQ2Q9z9qY3",
      "execution_count": 51,
      "outputs": [
        {
          "output_type": "display_data",
          "data": {
            "text/plain": [
              "<Figure size 720x360 with 1 Axes>"
            ],
            "image/png": "[encoded data removed]"
          },
          "metadata": {
            "needs_background": "light"
          }
        }
      ]
    },
    {
      "cell_type": "markdown",
      "source": [
        "Ну что, вполне норм."
      ],
      "metadata": {
        "id": "v1Sn3gRc9vjX"
      },
      "id": "v1Sn3gRc9vjX"
    },
    {
      "cell_type": "markdown",
      "source": [
        "### 6. Выводы, анализ вариантов и всё такое"
      ],
      "metadata": {
        "id": "I6LUWowf9zcL"
      },
      "id": "I6LUWowf9zcL"
    },
    {
      "cell_type": "markdown",
      "source": [
        "1. Для таких простых данных отлично подошла бы и классическая архитектура RNN, но поскольку этих данных мало, то и более сложные архитектуры будут иметь небольшое количество весов и быстро обучаться. Архитектура со слоями GRU выбрана, потому что показала хорошие метрики, не являясь избыточной, как LSTM.\n",
        "2. GRU и LSTM необходимо минимум 15 эпох, чтобы нормально обучиться. Я выбрал вариант с callback - early stopping, чтобы не подбирать количество эпох вручную.\n",
        "3. Оптимальный learning rate при такой архитектуре лежит в диапазоне примерно от 0,004 до 0,007. Я выбрал 0,005\n",
        "4. Данные довольно однородны, нет значительной разницы между трейном и тестом. Если бы она была, возможно, следовало бы изменить/усложнить архитектуру."
      ],
      "metadata": {
        "id": "kmu2udEK-BPL"
      },
      "id": "kmu2udEK-BPL"
    }
  ],
  "metadata": {
    "kernelspec": {
      "display_name": "Python 3 (ipykernel)",
      "language": "python",
      "name": "python3"
    },
    "language_info": {
      "codemirror_mode": {
        "name": "ipython",
        "version": 3
      },
      "file_extension": ".py",
      "mimetype": "text/x-python",
      "name": "python",
      "nbconvert_exporter": "python",
      "pygments_lexer": "ipython3",
      "version": "3.10.0"
    },
    "colab": {
      "provenance": [],
      "collapsed_sections": []
    }
  },
  "nbformat": 4,
  "nbformat_minor": 5
}